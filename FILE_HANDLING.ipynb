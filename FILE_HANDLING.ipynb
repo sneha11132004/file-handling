{
  "nbformat": 4,
  "nbformat_minor": 0,
  "metadata": {
    "colab": {
      "private_outputs": true,
      "provenance": []
    },
    "kernelspec": {
      "name": "python3",
      "display_name": "Python 3"
    },
    "language_info": {
      "name": "python"
    }
  },
  "cells": [
    {
      "cell_type": "markdown",
      "source": [
        "#EXCEPTION HANDLING\n"
      ],
      "metadata": {
        "id": "5SRedg8nXfMc"
      }
    },
    {
      "cell_type": "markdown",
      "source": [
        "1.What is the difference between interpreted and compiled languages?\n",
        "\n",
        "-compiled language translates the entire program into machine code before execution using a compiler. This machine code is saved as an executable file, which runs directly on the computer without needing the compiler again.\n",
        "Examples: C, C++, Rust\n",
        "\n",
        "An interpreted language executes code line-by-line at runtime using an interpreter. It doesn’t create a separate executable; instead, the interpreter must be installed to run the program.\n",
        "Examples: Python, JavaScript, Ruby\n",
        "\n",
        "Python is partially both — it first compiles to bytecode, then executes it using the Python Virtual Machine (PVM).\n"
      ],
      "metadata": {
        "id": "xcwUfW0FXlSh"
      }
    },
    {
      "cell_type": "markdown",
      "source": [
        "2.What is exception handling in Python?\n",
        "\n",
        "-Exception handling is the mechanism that lets a program respond to runtime errors (exceptions) without crashing. Using try, except, else, and finally blocks, you can catch specific errors, provide fallback behavior, and ensure cleanup tasks run even if an error occurs.\n",
        "\n"
      ],
      "metadata": {
        "id": "wWPV-kl5Y189"
      }
    },
    {
      "cell_type": "markdown",
      "source": [
        "3. What is the purpose of the finally block in exception handling?\n",
        "\n",
        "\n",
        "-The finally block contains code that always executes after the try/except blocks, regardless of whether an exception occurred. It’s typically used to release resources (close files, release locks) or perform important cleanup actions.\n"
      ],
      "metadata": {
        "id": "wpTVNLZhZSw4"
      }
    },
    {
      "cell_type": "markdown",
      "source": [
        "4. What is logging in Python?\n",
        "\n",
        "-Logging records runtime events, errors, and diagnostic information to console or files using the built-in logging module. It’s more flexible and production-suitable than printing, because it supports levels, formatting, and configurable handlers.\n"
      ],
      "metadata": {
        "id": "LbmA00fPZahk"
      }
    },
    {
      "cell_type": "markdown",
      "source": [
        "5. What is the significance of the __del__ method in Python?\n",
        "\n",
        "-_del_ is a destructor method called when an object is about to be destroyed (garbage-collected). It can release external resources, but relying on it is discouraged because the timing of its call is unpredictable and it may not run if circular references exist or the interpreter exits.\n",
        "\n"
      ],
      "metadata": {
        "id": "TYFbUhE_ZkOk"
      }
    },
    {
      "cell_type": "markdown",
      "source": [
        "6.What is the difference between import and from ... import in Python?\n",
        "\n",
        "-import module brings the whole module into scope and requires using module.name to access members. from module import name imports a specific member directly into the current namespace, letting you use name without the module prefix."
      ],
      "metadata": {
        "id": "R__DWOQMZqi4"
      }
    },
    {
      "cell_type": "markdown",
      "source": [
        "7.How can you handle multiple exceptions in Python?\n",
        "\n",
        "-You can specify multiple except blocks for different exception types or catch several exceptions together using a tuple: except (TypeError, ValueError) as e:. Using specific handlers helps give tailored recovery for each error; a general except Exception: should be used sparingly.\n"
      ],
      "metadata": {
        "id": "1SqIChmLZ5I4"
      }
    },
    {
      "cell_type": "markdown",
      "source": [
        "8.What is the purpose of the with statement when handling files in Python?\n",
        "\n",
        "-The with statement (context manager) ensures resources like open files are properly acquired and released: it automatically calls the file’s _enter_ and _exit_ methods so the file is closed even if an exception occurs. This makes resource management easier and safer than manual open/close.\n",
        "\n"
      ],
      "metadata": {
        "id": "pBqVe2AdaAeU"
      }
    },
    {
      "cell_type": "markdown",
      "source": [
        "9. What is the difference between multithreading and multiprocessing?\n",
        "\n",
        "-Multithreading runs multiple threads within the same process and shares memory, which is lightweight but limited by the Global Interpreter Lock (GIL) in CPython for CPU-bound tasks. Multiprocessing runs separate processes with independent memory spaces (no GIL), better for CPU-bound work but with higher overhead for communication.\n",
        "\n"
      ],
      "metadata": {
        "id": "Tm6lXTtRaIqb"
      }
    },
    {
      "cell_type": "markdown",
      "source": [
        "10. What are the advantages of using logging in a program?\n",
        "\n",
        "-Logging provides configurable severity levels, persistent records (files), structured messages, and separation between development and production diagnostics. It helps debugging, monitoring, and auditing without changing program flow, and can be routed to different outputs (console, files, remote servers).\n"
      ],
      "metadata": {
        "id": "DCknA60taRUL"
      }
    },
    {
      "cell_type": "markdown",
      "source": [
        "11.What is memory management in Python?\n",
        "\n",
        "-Memory management is how Python allocates, tracks, and frees memory for objects during program execution. It includes reference counting, a generational garbage collector for cyclic references, and management of object pools/allocators handled by the interpreter.\n"
      ],
      "metadata": {
        "id": "xxObtAdIaY0_"
      }
    },
    {
      "cell_type": "markdown",
      "source": [
        "12. What are the basic steps involved in exception handling in Python?\n",
        "\n",
        "-1. Wrap risky code in a try block.\n",
        "2. Catch specific exceptions with except blocks and handlethem.\n",
        "3. Optionally use else to run code when no exception occurs.\n",
        "4. Use finally to perform cleanup actions regardless of exceptions.\n"
      ],
      "metadata": {
        "id": "9013f2pfajna"
      }
    },
    {
      "cell_type": "markdown",
      "source": [
        "13.Why is memory management important in Python?\n",
        "\n",
        "-Good memory management prevents leaks and excessive memory use, which improves program performance and stability. It’s especially important for long-running applications (servers, daemons) where uncontrolled memory growth can exhaust system resources.\n",
        "\n"
      ],
      "metadata": {
        "id": "mveun4Vgayos"
      }
    },
    {
      "cell_type": "markdown",
      "source": [
        "14.What is the role of try and except in exception handling?\n",
        "\n",
        "-try encloses code that may raise exceptions; except catches and handles one or more types of exceptions so the program can recover or fail gracefully. Together they prevent abrupt termination and allow controlled error handling.\n"
      ],
      "metadata": {
        "id": "0WKfwEihbB2o"
      }
    },
    {
      "cell_type": "markdown",
      "source": [
        "15.How does Python's garbage collection system work?\n",
        "\n",
        "-Python primarily uses reference counting: an object is deallocated when its reference count reaches zero. To handle reference cycles (objects referencing each other), Python’s generational garbage collector periodically identifies and frees unreachable cycles, separating objects into generations based on longevity for efficiency.\n",
        "\n"
      ],
      "metadata": {
        "id": "iRPIHmINbJMT"
      }
    },
    {
      "cell_type": "markdown",
      "source": [
        "16. What is the purpose of the else block in exception handling?\n",
        "\n",
        "-The else block runs only if the try block completes without raising an exception. It’s useful for code that should execute when no error occurs, keeping the try block focused on actions that might raise exceptions.\n"
      ],
      "metadata": {
        "id": "NT15pLzybStD"
      }
    },
    {
      "cell_type": "markdown",
      "source": [
        "17. What are the common logging levels in Python?\n",
        "\n",
        "-Common levels (in increasing severity) are: DEBUG, INFO, WARNING, ERROR, and CRITICAL. Use DEBUG for detailed diagnostics, INFO for general events, WARNING for recoverable issues, ERROR for serious problems, and CRITICAL for fatal conditions.\n",
        "\n"
      ],
      "metadata": {
        "id": "O7NkBMbdbbDT"
      }
    },
    {
      "cell_type": "markdown",
      "source": [
        "18.What is the difference between os.fork() and multiprocessing in Python?\n",
        "\n",
        "-os.fork() duplicates the current process on Unix-like systems and returns twice (parent/child); it’s low-level and not portable to Windows. The multiprocessing module provides a high-level, cross-platform API for creating processes, with support for process pools, inter-process communication, and safer resource handling.\n"
      ],
      "metadata": {
        "id": "R6X5L2JJb2gj"
      }
    },
    {
      "cell_type": "markdown",
      "source": [
        "19.What is the importance of closing a file in Python?\n",
        "\n",
        "-Closing a file flushes buffers and releases system resources (file descriptors). Failure to close files can lead to data not being written, resource leaks, and limits being reached; using with ensures files are closed automatically."
      ],
      "metadata": {
        "id": "xJJp4OT4cGO1"
      }
    },
    {
      "cell_type": "markdown",
      "source": [
        "20. What is the difference between file.read() and file.readline() in Python?\n",
        "\n",
        "-file.read(): Reads the entire file content as a single string (or up to the specified number of characters if given). Useful when you need the full file content at once.\n",
        "\n",
        "file.readline(): Reads only one line from the file at a time, returning it as a string including the newline character (\\n). Useful for processing files line-by-line.\n",
        "Example:\n",
        "\n"
      ],
      "metadata": {
        "id": "XlTlvFQKcPJg"
      }
    },
    {
      "cell_type": "markdown",
      "source": [
        "21.What is the logging module in Python used for?\n",
        "\n",
        "-The logging module is used to record messages about program execution. It allows developers to track events, debug issues, and maintain audit trails without using print() statements. It supports different severity levels (DEBUG, INFO, WARNING, ERROR, CRITICAL), and can send logs to console, files, or external systems.\n"
      ],
      "metadata": {
        "id": "rOLHOttWct7z"
      }
    },
    {
      "cell_type": "markdown",
      "source": [
        "22.What is the os module in Python used for in file handling?\n",
        "\n",
        "-The os module provides functions to interact with the operating system, including file and directory handling. In file operations, it can:\n",
        "Create, remove, or rename files/directories (os.remove(), os.rename(), os.mkdir()).\n",
        "Get file paths and properties (os.path functions).\n",
        "Change the current working directory (os.chdir()). It’s essential for automating file management tasks in scripts.\n",
        "\n",
        "\n"
      ],
      "metadata": {
        "id": "p43F6ME2c0jZ"
      }
    },
    {
      "cell_type": "markdown",
      "source": [
        "23.What are the challenges associated with memory management in Python?\n",
        "\n",
        "-Reference cycles: Objects referring to each other may delay garbage collection.\n",
        "\n",
        "Large object memory use: Big datasets or many objects can cause high memory usage.\n",
        "\n",
        "Fragmentation: Long-running programs can suffer from memory fragmentation.\n",
        "\n",
        "Unreleased resources: Forgetting to close files or network connections may cause memory/resource leaks.\n",
        "Efficient coding and profiling tools help mitigate these issues.\n",
        "\n",
        "\n"
      ],
      "metadata": {
        "id": "mv6rOmVwc--j"
      }
    },
    {
      "cell_type": "markdown",
      "source": [
        "24.How do you raise an exception manually in Python?\n",
        "\n",
        "-You can manually raise an exception using the raise statement followed by an exception type. This is useful for enforcing conditions or handling invalid inputs.\n",
        "Example:\n",
        "\n",
        "if age < 0:\n",
        "    raise ValueError(\"Age cannot be negative\")\n"
      ],
      "metadata": {
        "id": "5TPQPeY9dKdO"
      }
    },
    {
      "cell_type": "markdown",
      "source": [
        "25.Why is it important to use multithreading in certain applications?\n",
        "\n",
        "-Multithreading allows multiple threads to run within the same process, enabling tasks to overlap and improve responsiveness. It’s useful for:\n",
        "\n",
        "I/O-bound tasks (file reading, network requests) where threads can work while others wait for I/O.\n",
        "\n",
        "Real-time interaction (GUIs, servers) to keep the application responsive.\n",
        "However, due to Python’s GIL, it’s less effective for CPU-bound work; multiprocessing may be preferred there."
      ],
      "metadata": {
        "id": "lGAoZifMdRwD"
      }
    },
    {
      "cell_type": "code",
      "source": [
        "#1. How can you open a file for writing in Python and write a string to it?\n",
        "with open(\"example.txt\", \"w\") as file:\n",
        "    file.write(\"Hello, this is a sample text written to the file.\")\n",
        "print(\"File written successfully.\")"
      ],
      "metadata": {
        "id": "CVX8K5jWdzH1"
      },
      "execution_count": null,
      "outputs": []
    },
    {
      "cell_type": "code",
      "execution_count": null,
      "metadata": {
        "id": "UGDNmRh-NeSS"
      },
      "outputs": [],
      "source": [
        "#2.Write a Python program to read the contents of a file and print each line?\n",
        "with open(\"example.txt\", \"r\") as file:\n",
        "    for line in file:\n",
        "        print(line.strip())"
      ]
    },
    {
      "cell_type": "code",
      "source": [
        "#3. How would you handle a case where the file doesn't exist while trying to open it for reading?\n",
        "try:\n",
        "    with open(\"non_existent.txt\", \"r\") as file:\n",
        "        print(file.read())\n",
        "except FileNotFoundError:\n",
        "    print(\"Error: The file does not exist.\")"
      ],
      "metadata": {
        "id": "kYBj61VPsN5p"
      },
      "execution_count": null,
      "outputs": []
    },
    {
      "cell_type": "code",
      "source": [
        "#4. Write a Python script that reads from one file and writes its content to another file?\n",
        "with open(\"source.txt\", \"w\") as f:\n",
        "    f.write(\"Data copied from source file.\")\n",
        "\n",
        "# Copy content\n",
        "with open(\"source.txt\", \"r\") as src:\n",
        "    content = src.read()\n",
        "\n",
        "with open(\"destination.txt\", \"w\") as dest:\n",
        "    dest.write(content)\n",
        "\n",
        "print(\"File copied successfully.\")"
      ],
      "metadata": {
        "id": "OGJiMWbnsX4Z"
      },
      "execution_count": null,
      "outputs": []
    },
    {
      "cell_type": "code",
      "source": [
        "#5. How would you catch and handle division by zero error in Python?\n",
        "try:\n",
        "    num = 10 / 0\n",
        "except ZeroDivisionError:\n",
        "    print(\"Error: Cannot divide by zero.\")"
      ],
      "metadata": {
        "id": "3ni7s0hn1MuQ"
      },
      "execution_count": null,
      "outputs": []
    },
    {
      "cell_type": "code",
      "source": [
        "#6. Write a Python program that logs an error message to a log file when a division by zero exception occurs?\n",
        "import logging\n",
        "logging.basicConfig(filename=\"error.log\", level=logging.ERROR)\n",
        "\n",
        "try:\n",
        "    result = 10 / 0\n",
        "except ZeroDivisionError:\n",
        "    logging.error(\"Division by zero occurred.\")\n",
        "    print(\"Error logged to file.\")"
      ],
      "metadata": {
        "id": "1aTCZI6K1cl5"
      },
      "execution_count": null,
      "outputs": []
    },
    {
      "cell_type": "code",
      "source": [
        "#7. How do you log information at different levels (INFO, ERROR, WARNING) in Python using the logging module?\n",
        "import logging\n",
        "\n",
        "logging.basicConfig(\n",
        "    filename=\"app.log\",     # log file name\n",
        "    level=logging.DEBUG,    # capture all levels from DEBUG and above\n",
        "    format=\"%(levelname)s: %(message)s\"\n",
        ")\n",
        "\n",
        "logging.info(\"This is an INFO message.\")\n",
        "logging.warning(\"This is a WARNING message.\")\n",
        "logging.error(\"This is an ERROR message.\")\n",
        "\n",
        "print(\"Logged INFO, WARNING, and ERROR messages to app.log\")\n",
        "\n"
      ],
      "metadata": {
        "id": "DS2u7xx41nsL"
      },
      "execution_count": null,
      "outputs": []
    },
    {
      "cell_type": "code",
      "source": [
        "#8.Write a program to handle a file opening error using exception handling?\n",
        "try:\n",
        "    with open(\"missing.txt\", \"r\") as f:\n",
        "        data = f.read()\n",
        "except FileNotFoundError:\n",
        "    print(\"File opening failed: File not found.\")"
      ],
      "metadata": {
        "id": "6f5ulB6s2H3F"
      },
      "execution_count": null,
      "outputs": []
    },
    {
      "cell_type": "code",
      "source": [
        "#9.How can you read a file line by line and store its content in a list in Python?\n",
        "with open(\"data.txt\", \"w\") as f:\n",
        "    f.write(\"Apple\\nBanana\\nCherry\\n\")\n",
        "\n",
        "# Read each line into a list (without newline characters)\n",
        "with open(\"data.txt\", \"r\") as f:\n",
        "    fruits = [line.strip() for line in f]\n",
        "\n",
        "print(fruits)"
      ],
      "metadata": {
        "id": "Mr3ct3HG2WU-"
      },
      "execution_count": null,
      "outputs": []
    },
    {
      "cell_type": "code",
      "source": [
        "#10. How can you append data to an existing file in Python?\n",
        "with open(\"data.txt\", \"w\") as f:\n",
        "    f.write(\"Apple\\nBanana\\nCherry\\n\")\n",
        "\n",
        "# Append new data\n",
        "with open(\"data.txt\", \"a\") as f:\n",
        "    f.write(\"Mango\\n\")\n",
        "\n",
        "print(\"Data appended to file.\")"
      ],
      "metadata": {
        "id": "5rvfHsbG2jrM"
      },
      "execution_count": null,
      "outputs": []
    },
    {
      "cell_type": "code",
      "source": [
        "#11. Write a Python program that uses a try-except block to handle an error when attempting to access a\n",
        "#dictionary key that doesn't exist?\n",
        "try:\n",
        "    with open(\"nofile.txt\", \"r\") as f:\n",
        "        data = f.read()\n",
        "except FileNotFoundError:\n",
        "    print(\"Handled error: File not found.\")"
      ],
      "metadata": {
        "id": "wkUJQL5s24Pw"
      },
      "execution_count": null,
      "outputs": []
    },
    {
      "cell_type": "code",
      "source": [
        "#12.Write a program that demonstrates using multiple except blocks to handle different types of exceptions?\n",
        "try:\n",
        "    x = int(\"abc\")  # This will cause a ValueError\n",
        "except ValueError:\n",
        "    print(\"ValueError handled.\")\n",
        "except ZeroDivisionError:\n",
        "    print(\"ZeroDivisionError handled.\")"
      ],
      "metadata": {
        "id": "dAGy4Dbs3COh"
      },
      "execution_count": null,
      "outputs": []
    },
    {
      "cell_type": "code",
      "source": [
        "#13.How would you check if a file exists before attempting to read it in Python?\n",
        "try:\n",
        "    with open(\"data.txt\", \"r\") as f:\n",
        "        print(f.read())\n",
        "except Exception as e:\n",
        "    print(\"Error:\", e)"
      ],
      "metadata": {
        "id": "O9Y1xb033WRL"
      },
      "execution_count": null,
      "outputs": []
    },
    {
      "cell_type": "code",
      "source": [
        "#14.F Write a program that uses the logging module to log both informational and error messages?\n",
        "import logging\n",
        "\n",
        "logging.basicConfig(\n",
        "    filename=\"app.log\",\n",
        "    level=logging.DEBUG,\n",
        "    format=\"%(levelname)s: %(message)s\"\n",
        ")\n",
        "\n",
        "try:\n",
        "    logging.info(\"Program started.\")\n",
        "    x = 10 / 0  # Will raise ZeroDivisionError\n",
        "except ZeroDivisionError:\n",
        "    logging.error(\"Tried to divide by zero.\")\n",
        "\n",
        "print(\"Check app.log for logs.\")"
      ],
      "metadata": {
        "id": "w_3yo9Dy3efE"
      },
      "execution_count": null,
      "outputs": []
    },
    {
      "cell_type": "code",
      "source": [
        "#15.Write a Python program that prints the content of a file and handles the case when the file is empty?\n",
        "try:\n",
        "    with open(\"data.txt\", \"r\") as f:\n",
        "        print(f.read())\n",
        "except FileNotFoundError:\n",
        "    print(\"File missing.\")"
      ],
      "metadata": {
        "id": "9thB37JR3sED"
      },
      "execution_count": null,
      "outputs": []
    },
    {
      "cell_type": "code",
      "source": [
        "#16. Demonstrate how to use memory profiling to check the memory usage of a small program?\n",
        "import sys\n",
        "\n",
        "# Create a list with 1000 numbers\n",
        "data_list = list(range(1000))\n",
        "\n",
        "# Get memory usage of the list\n",
        "print(\"Memory usage of list:\", sys.getsizeof(data_list), \"bytes\")"
      ],
      "metadata": {
        "id": "KOcel64o4L72"
      },
      "execution_count": null,
      "outputs": []
    },
    {
      "cell_type": "code",
      "source": [
        "#17.Write a Python program to create and write a list of numbers to a file, one number per line?\n",
        "numbers = [1, 2, 3, 4, 5]\n",
        "\n",
        "with open(\"numbers.txt\", \"w\") as f:\n",
        "    for num in numbers:\n",
        "        f.write(str(num) + \"\\n\")\n",
        "\n",
        "print(\"Numbers written to file.\")"
      ],
      "metadata": {
        "id": "tHKzR7N04kwS"
      },
      "execution_count": null,
      "outputs": []
    },
    {
      "cell_type": "code",
      "source": [
        "#18.How would you implement a basic logging setup that logs to a file with rotation after 1MB?\n",
        "import logging\n",
        "from logging.handlers import RotatingFileHandler\n",
        "\n",
        "# Create a rotating log handler (max 50 bytes per file, keep 2 backups)\n",
        "handler = RotatingFileHandler(\"rotating.log\", maxBytes=50, backupCount=2)\n",
        "logger = logging.getLogger(\"RotatingLogger\")\n",
        "logger.setLevel(logging.INFO)\n",
        "logger.addHandler(handler)\n",
        "\n",
        "# Write multiple log messages\n",
        "for i in range(10):\n",
        "    logger.info(f\"This is log line {i}\")\n",
        "\n",
        "print(\"Rotating logs created.\")"
      ],
      "metadata": {
        "id": "ve5gm2mW4tcN"
      },
      "execution_count": null,
      "outputs": []
    },
    {
      "cell_type": "code",
      "source": [
        "#19.Write a program that handles both IndexError and KeyError using a try-except block?\n",
        "try:\n",
        "    my_list = [1, 2]\n",
        "    print(my_list[5])  # Out of range\n",
        "except IndexError:\n",
        "    print(\"IndexError handled.\")\n",
        "\n",
        "# Handling KeyError\n",
        "try:\n",
        "    my_dict = {\"a\": 1}\n",
        "    print(my_dict[\"b\"])  # Key does not exist\n",
        "except KeyError:\n",
        "    print(\"KeyError handled.\")"
      ],
      "metadata": {
        "id": "AzL8AjGY5Apn"
      },
      "execution_count": null,
      "outputs": []
    },
    {
      "cell_type": "code",
      "source": [
        "#20. How would you open a file and read its contents using a context manager in Python?\n",
        "with open(\"data.txt\", \"w\") as f:\n",
        "    f.write(\"Apple\\nBanana\\nCherry\\nMango\\n\")\n",
        "\n",
        "# Read file content\n",
        "with open(\"data.txt\", \"r\") as f:\n",
        "    print(f.read())"
      ],
      "metadata": {
        "id": "pKdj5BmC5Lhj"
      },
      "execution_count": null,
      "outputs": []
    },
    {
      "cell_type": "code",
      "source": [
        "#21.Write a Python program that reads a file and prints the number of occurrences of a specific word?\n",
        "with open(\"story.txt\", \"w\") as f:\n",
        "    f.write(\"Apple is sweet. Apple is red. I like Apple.\\n\")\n",
        "\n",
        "word_to_count = \"Apple\"\n",
        "\n",
        "# Count occurrences\n",
        "with open(\"story.txt\", \"r\") as f:\n",
        "    text = f.read()\n",
        "    count = text.count(word_to_count)\n",
        "\n",
        "print(f\"The word '{word_to_count}' occurs {count} times in the file.\")"
      ],
      "metadata": {
        "id": "zwjwAp2z5U6m"
      },
      "execution_count": null,
      "outputs": []
    },
    {
      "cell_type": "code",
      "source": [
        "#22. How can you check if a file is empty before attempting to read its contents?\n",
        "text = input(\"Enter some text to save in file: \")\n",
        "\n",
        "# Write to file\n",
        "with open(\"user_input.txt\", \"w\") as f:\n",
        "    f.write(text)\n",
        "\n",
        "print(\"Text saved to user_input.txt\")"
      ],
      "metadata": {
        "id": "OS1weDzq5l3n"
      },
      "execution_count": null,
      "outputs": []
    },
    {
      "cell_type": "code",
      "source": [
        "#23.Write a Python program that writes to a log file when an error occurs during file handling?\n",
        "import csv\n",
        "\n",
        "# Create a sample CSV file\n",
        "with open(\"sample.csv\", \"w\", newline=\"\") as f:\n",
        "    writer = csv.writer(f)\n",
        "    writer.writerow([\"Name\", \"Age\", \"City\"])\n",
        "    writer.writerow([\"Alice\", 25, \"New York\"])\n",
        "    writer.writerow([\"Bob\", 30, \"London\"])\n",
        "    writer.writerow([\"Charlie\", 28, \"Paris\"])\n",
        "\n",
        "# Read and display CSV content\n",
        "with open(\"sample.csv\", \"r\") as f:\n",
        "    reader = csv.reader(f)\n",
        "    for row in reader:\n",
        "        print(row)"
      ],
      "metadata": {
        "id": "s4eRmxlf50nS"
      },
      "execution_count": null,
      "outputs": []
    }
  ]
}